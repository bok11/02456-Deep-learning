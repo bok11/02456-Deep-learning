{
 "cells": [
  {
   "cell_type": "markdown",
   "metadata": {},
   "source": [
    "# Prerequisites\n",
    "\n",
    "> By Jonas Busk ([jbusk@dtu.dk](mailto:jbusk@dtu.dk))\n",
    "\n",
    "In this lab we will create neural network reinforcement learning agents with [PyTorch](https://pytorch.org/) to navigate various environments from [OpenAI Gym](https://gym.openai.com/) developed by [OpenAI](https://openai.com/).\n",
    "\n",
    "Please refer to the [docs](https://gym.openai.com/docs/) on how to get started with Gym. You are also encouraged to take a look at this short [post on the OpenAI blog](https://blog.openai.com/openai-gym-beta/)."
   ]
  },
  {
   "cell_type": "markdown",
   "metadata": {},
   "source": [
    "## Installation\n",
    "\n",
    "Below is a brief guide on how to install OpenAI Gym. For more details, please refer to the repository on [GitHub](https://github.com/openai/gym) and the [docs](https://gym.openai.com/docs).\n",
    "\n",
    "You can do a minimal install of the packaged version of Gym directly from PyPI:\n",
    "\n",
    "```\n",
    "pip install gym\n",
    "```\n",
    "\n",
    "Or you can perform a minimal install from GitHub:\n",
    "\n",
    "```\n",
    "git clone https://github.com/openai/gym.git\n",
    "cd gym\n",
    "pip install -e .\n",
    "```\n",
    "\n",
    "If you are running notebooks in docker or on a server, you will also need `JSAnimation` to render the environment inline in the example below and in one of the exercises. JSAnimation can be installed with pip:\n",
    "\n",
    "```\n",
    "pip install git+https://github.com/jakevdp/JSAnimation.git\n",
    "```\n",
    "\n",
    "If you like, you can install both Gym and JSAnimation by running the cell below:"
   ]
  },
  {
   "cell_type": "code",
   "execution_count": 1,
   "metadata": {},
   "outputs": [
    {
     "name": "stdout",
     "output_type": "stream",
     "text": [
      "/bin/sh: 1: pip: not found\n",
      "/bin/sh: 1: pip: not found\n"
     ]
    }
   ],
   "source": [
    "# install gym and JSAnimation\n",
    "!pip install gym\n",
    "!pip install git+https://github.com/jakevdp/JSAnimation.git"
   ]
  },
  {
   "cell_type": "markdown",
   "metadata": {},
   "source": [
    "## Running an environment\n",
    "\n",
    "Here is a bare minimum example of running a Gym environment. This creates an instance of the [CartPole-v0](https://gym.openai.com/envs/CartPole-v0) environment and runs for 200 timesteps, taking random actions and rendering the environment at each step. With everything installed, you should be able to see a small animation of the environment below."
   ]
  },
  {
   "cell_type": "code",
   "execution_count": null,
   "metadata": {
    "collapsed": true
   },
   "outputs": [],
   "source": [
    "import gym\n",
    "from viewer import Viewer\n",
    "\n",
    "env = gym.make('CartPole-v0')\n",
    "env.reset() # reset the environment\n",
    "view = Viewer(env, custom_render=True) # we use this custom viewer to render the environment inline in the notebook\n",
    "for _ in range(200):\n",
    "    view.render()\n",
    "    # env.render() # uncomment this to use gym's own render function\n",
    "    env.step(env.action_space.sample()) # take a random action\n",
    "view.render(close=True, display_gif=True) # display the environment inline in the notebook\n",
    "# env.render(close=True) # uncomment this to use gym'm own render function"
   ]
  }
 ],
 "metadata": {
  "kernelspec": {
   "display_name": "Python 3",
   "language": "python",
   "name": "python3"
  },
  "language_info": {
   "codemirror_mode": {
    "name": "ipython",
    "version": 3
   },
   "file_extension": ".py",
   "mimetype": "text/x-python",
   "name": "python",
   "nbconvert_exporter": "python",
   "pygments_lexer": "ipython3",
   "version": "3.6.3"
  }
 },
 "nbformat": 4,
 "nbformat_minor": 2
}
